{
 "cells": [
  {
   "cell_type": "code",
   "execution_count": 1,
   "id": "56c8656b-2c7c-4f3f-a17e-b9551ec6d52d",
   "metadata": {},
   "outputs": [],
   "source": [
    "import tensorflow as tf\n",
    "import numpy as np\n",
    "import matplotlib.pyplot as plt"
   ]
  },
  {
   "cell_type": "code",
   "execution_count": 2,
   "id": "20d0f6ef-a695-48a2-ab2d-a18470afdfb0",
   "metadata": {},
   "outputs": [],
   "source": [
    "mnist = tf.keras.datasets.mnist\n",
    "(x_train, y_train), (x_test, y_test) = mnist.load_data()"
   ]
  },
  {
   "cell_type": "code",
   "execution_count": 3,
   "id": "af222ca2-f244-440d-aa0c-1de1174300e8",
   "metadata": {},
   "outputs": [
    {
     "data": {
      "text/plain": [
       "(60000, 28, 28)"
      ]
     },
     "execution_count": 3,
     "metadata": {},
     "output_type": "execute_result"
    }
   ],
   "source": [
    "x_train.shape"
   ]
  },
  {
   "cell_type": "code",
   "execution_count": 4,
   "id": "c7cfe1ca-f58f-44a8-8adc-4a4f45c32923",
   "metadata": {},
   "outputs": [
    {
     "data": {
      "text/plain": [
       "array([0, 1, 2, 3, 4, 5, 6, 7, 8, 9], dtype=uint8)"
      ]
     },
     "execution_count": 4,
     "metadata": {},
     "output_type": "execute_result"
    }
   ],
   "source": [
    "np.unique(y_train)"
   ]
  },
  {
   "cell_type": "code",
   "execution_count": 5,
   "id": "feaad6e3-46d6-4d93-98d9-435ed94a4d76",
   "metadata": {},
   "outputs": [
    {
     "data": {
      "text/plain": [
       "<matplotlib.image.AxesImage at 0x1add9473ee0>"
      ]
     },
     "execution_count": 5,
     "metadata": {},
     "output_type": "execute_result"
    },
    {
     "data": {
      "image/png": "[encoded data removed]",
      "text/plain": [
       "<Figure size 432x288 with 1 Axes>"
      ]
     },
     "metadata": {
      "needs_background": "light"
     },
     "output_type": "display_data"
    }
   ],
   "source": [
    "plt.imshow(x_train[0])"
   ]
  },
  {
   "cell_type": "code",
   "execution_count": 6,
   "id": "6c1be45c-a0d1-4ce6-95ea-d0e2de637c78",
   "metadata": {},
   "outputs": [
    {
     "name": "stdout",
     "output_type": "stream",
     "text": [
      "28\n",
      "28\n"
     ]
    }
   ],
   "source": [
    "dim1=x_train[0].shape[0]\n",
    "print(dim1)\n",
    "dim2=x_train[0].shape[1]\n",
    "print(dim2)"
   ]
  },
  {
   "cell_type": "code",
   "execution_count": 46,
   "id": "76b4ea4a-5cf9-4d9e-a952-4067e4105f09",
   "metadata": {},
   "outputs": [],
   "source": [
    "model = tf.keras.models.Sequential([\n",
    "tf.keras.layers.Flatten(input_shape=(dim1,dim2)),\n",
    "tf.keras.layers.Dense(100, activation='relu'),\n",
    "tf.keras.layers.Dropout(0.05),   \n",
    "tf.keras.layers.Dense(10, activation='softmax')])"
   ]
  },
  {
   "cell_type": "code",
   "execution_count": 47,
   "id": "80f1adad-ce38-4721-85ce-8a30528128fc",
   "metadata": {},
   "outputs": [],
   "source": [
    "model.compile(loss='sparse_categorical_crossentropy', metrics=['accuracy'], optimizer='adam')\n"
   ]
  },
  {
   "cell_type": "code",
   "execution_count": 48,
   "id": "33c7f29e-106e-4015-87d2-44a46f21f004",
   "metadata": {},
   "outputs": [
    {
     "name": "stdout",
     "output_type": "stream",
     "text": [
      "Epoch 1/6\n",
      "1875/1875 [==============================] - 7s 3ms/step - loss: 2.3148 - accuracy: 0.7777 - val_loss: 0.5240 - val_accuracy: 0.8774\n",
      "Epoch 2/6\n",
      "1875/1875 [==============================] - 6s 3ms/step - loss: 0.4814 - accuracy: 0.8758 - val_loss: 0.3599 - val_accuracy: 0.9124\n",
      "Epoch 3/6\n",
      "1875/1875 [==============================] - 6s 3ms/step - loss: 0.3570 - accuracy: 0.9039 - val_loss: 0.2841 - val_accuracy: 0.9292\n",
      "Epoch 4/6\n",
      "1875/1875 [==============================] - 6s 3ms/step - loss: 0.3106 - accuracy: 0.9168 - val_loss: 0.2627 - val_accuracy: 0.9386\n",
      "Epoch 5/6\n",
      "1875/1875 [==============================] - 5s 3ms/step - loss: 0.2842 - accuracy: 0.9228 - val_loss: 0.2516 - val_accuracy: 0.9400\n",
      "Epoch 6/6\n",
      "1875/1875 [==============================] - 5s 3ms/step - loss: 0.2758 - accuracy: 0.9277 - val_loss: 0.2337 - val_accuracy: 0.9437\n"
     ]
    }
   ],
   "source": [
    "history=model.fit(x_train, y_train, epochs=6, validation_data=(x_test, y_test))"
   ]
  },
  {
   "cell_type": "code",
   "execution_count": 49,
   "id": "6068acb2-681d-4837-a111-2c7e53baea99",
   "metadata": {},
   "outputs": [
    {
     "data": {
      "image/png": "[encoded data removed]",
      "text/plain": [
       "<Figure size 432x288 with 1 Axes>"
      ]
     },
     "metadata": {
      "needs_background": "light"
     },
     "output_type": "display_data"
    }
   ],
   "source": [
    "val_loss=history.history[\"val_loss\"]\n",
    "loss=history.history[\"loss\"]\n",
    "epochs=range(6)\n",
    "plt.plot(epochs,val_loss,label=\"val_loss\")\n",
    "plt.plot(epochs,loss,label=\"training loss\")\n",
    "plt.legend()\n",
    "plt.show()"
   ]
  }
 ],
 "metadata": {
  "kernelspec": {
   "display_name": "Python 3",
   "language": "python",
   "name": "python3"
  },
  "language_info": {
   "codemirror_mode": {
    "name": "ipython",
    "version": 3
   },
   "file_extension": ".py",
   "mimetype": "text/x-python",
   "name": "python",
   "nbconvert_exporter": "python",
   "pygments_lexer": "ipython3",
   "version": "3.8.8"
  }
 },
 "nbformat": 4,
 "nbformat_minor": 5
}
